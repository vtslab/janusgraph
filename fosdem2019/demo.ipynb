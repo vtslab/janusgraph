{
 "cells": [
  {
   "cell_type": "markdown",
   "metadata": {},
   "source": [
    "## Demo notebook for FOSDEM2019 graph devroom"
   ]
  },
  {
   "cell_type": "code",
   "execution_count": 1,
   "metadata": {},
   "outputs": [
    {
     "data": {
      "application/vnd.jupyter.widget-view+json": {
       "model_id": "06e82ef3-ed6e-4d25-a904-fa868f66d699",
       "version_major": 2,
       "version_minor": 0
      },
      "method": "display_data"
     },
     "metadata": {},
     "output_type": "display_data"
    },
    {
     "data": {
      "application/vnd.jupyter.widget-view+json": {
       "model_id": "bf38b10d-249b-4477-b0cf-c181d2628de7",
       "version_major": 2,
       "version_minor": 0
      },
      "method": "display_data"
     },
     "metadata": {},
     "output_type": "display_data"
    },
    {
     "data": {
      "text/plain": [
       "graph and traversal sources available"
      ]
     },
     "execution_count": 1,
     "metadata": {},
     "output_type": "execute_result"
    }
   ],
   "source": [
    "/* Tested with beakerx-1.3.0 on python-3.6.7 */\n",
    "\n",
    "%classpath add jar 'target/fosdem2019-0.0.1-SNAPSHOT.jar'\n",
    "%classpath add jar 'gremlinjars/lib/*'\n",
    "\n",
    "import nl.vtslab.fosdem2019.traversal.AuthorizedTraversalSource\n",
    "import static org.apache.tinkerpop.gremlin.structure.\n",
    "  VertexProperty.Cardinality.set;\n",
    "import org.apache.tinkerpop.gremlin.tinkergraph.structure.\n",
    "  TinkerGraph\n",
    "import static org.junit.Assert.fail as imported_fail\n",
    "\n",
    "fail = {x -> imported_fail(x)}\n",
    "\n",
    "class DemoGraph {\n",
    "  static def createGraph() {\n",
    "    def graph = TinkerGraph.open();\n",
    "    def g = graph.traversal();\n",
    "    g.addV(\"Person\").property(\"name\", \"p0\").\n",
    "      property(\"authz\", \"biz;3\").\n",
    "      property(set, \"authz\", \"fb;2\").next();\n",
    "    g.addV(\"Person\").property(\"name\", \"p1\").\n",
    "      property(\"authz\", \"fin;3\").next();\n",
    "    g.addV(\"Person\").property(\"name\", \"p2\").\n",
    "      property(\"authz\", \"fin;2\").next();\n",
    "    g.addV(\"Event\").property(\"name\", \"v1\").\n",
    "      property(\"authz\", \"biz;3\").next();\n",
    "    g.addV(\"Event\").property(\"name\", \"v2\").\n",
    "      property(\"authz\", \"fin;2\").next();\n",
    "    g.V().has(\"name\", \"v1\").as(\"a\").\n",
    "        V().has(\"name\", \"p0\").addE(\"Visits\").to(\"a\").\n",
    "          property(\"name\", \"e01\").property(\"authz\", \"biz;3\").\n",
    "        V().has(\"name\", \"p1\").addE(\"Visits\").to(\"a\").\n",
    "          property(\"name\", \"e11\").\n",
    "          property(\"authz\", \"fin;3\").next();\n",
    "    g.V().has(\"name\", \"v2\").as(\"a\").\n",
    "        V().has(\"name\", \"p1\").addE(\"Visits\").to(\"a\").\n",
    "          property(\"name\", \"e12\").property(\"authz\", \"fin;3\").\n",
    "        V().has(\"name\", \"p2\").addE(\"Visits\").to(\"a\").\n",
    "          property(\"name\", \"e22\").\n",
    "          property(\"authz\", \"fin;4\").next();\n",
    "    return graph;\n",
    "  }\n",
    "}\n",
    "\n",
    "graph = DemoGraph.createGraph();\n",
    "g = graph.traversal();\n",
    "// Every withAuthorization() call needs \n",
    "// a new AuthorizedTraversalSource\n",
    "ga = {x -> graph.traversal(AuthorizedTraversalSource.class)}\n",
    "\"graph and traversal sources available\""
   ]
  },
  {
   "cell_type": "markdown",
   "metadata": {},
   "source": [
    "<img src=\"demograph.png\" width=\"600\" align=\"left\"/>"
   ]
  },
  {
   "cell_type": "markdown",
   "metadata": {},
   "source": [
    "## Normal operation"
   ]
  },
  {
   "cell_type": "code",
   "execution_count": 2,
   "metadata": {},
   "outputs": [
    {
     "data": {
      "text/plain": [
       "unrestricted: [p0, p1, p2, v1, v2]\n",
       "authorized: [p0, v1]"
      ]
     },
     "execution_count": 2,
     "metadata": {},
     "output_type": "execute_result"
    }
   ],
   "source": [
    "unrestricted = g.V().values(\"name\").toList()\n",
    "authorized = ga().withAuthorization([\"biz;3\"]).\n",
    "    V().values(\"name\").toList()    // <===\n",
    "\"unrestricted: \" + unrestricted + \n",
    "    \"\\nauthorized: \" + authorized"
   ]
  },
  {
   "cell_type": "code",
   "execution_count": 3,
   "metadata": {},
   "outputs": [
    {
     "data": {
      "text/plain": [
       "unrestricted: [v1, v2]\n",
       "authorized: [v2]"
      ]
     },
     "execution_count": 3,
     "metadata": {},
     "output_type": "execute_result"
    }
   ],
   "source": [
    "unrestricted = g.V().has(\"name\", \"p1\").\n",
    "    out().values(\"name\").toList()\n",
    "authorized = ga().withAuthorization([\"fin;2\",\"fin;3\"]).\n",
    "    V().has(\"name\", \"p1\").\n",
    "    out().values(\"name\").toList()      // <===\n",
    "\"unrestricted: \" + unrestricted + \n",
    "    \"\\nauthorized: \" + authorized"
   ]
  },
  {
   "cell_type": "markdown",
   "metadata": {},
   "source": [
    "## Unauthorized use"
   ]
  },
  {
   "cell_type": "code",
   "execution_count": 4,
   "metadata": {},
   "outputs": [
    {
     "data": {
      "text/plain": [
       "Method withAuthorization() should be called first"
      ]
     },
     "execution_count": 4,
     "metadata": {},
     "output_type": "execute_result"
    }
   ],
   "source": [
    "try {\n",
    "    ga().V().toList();      // <===\n",
    "    fail(\"Unauthorized query should fail\");\n",
    "} catch (RuntimeException exception) {\n",
    "    exception.getMessage();\n",
    "}"
   ]
  },
  {
   "cell_type": "code",
   "execution_count": 5,
   "metadata": {},
   "outputs": [
    {
     "data": {
      "text/plain": [
       "Method withAuthorization() can only be called once"
      ]
     },
     "execution_count": 5,
     "metadata": {},
     "output_type": "execute_result"
    }
   ],
   "source": [
    "try {\n",
    "    ga().withAuthorization([\"biz;3\"]).\n",
    "        withAuthorization([\"biz;3\", \"fin;3\"]).\n",
    "        V().toList();      // <===\n",
    "    fail(\"Query with second withAuthorization() \" + \n",
    "         \"call should fail\");\n",
    "} catch (RuntimeException exception) {\n",
    "    exception.getMessage();\n",
    "}"
   ]
  },
  {
   "cell_type": "markdown",
   "metadata": {},
   "source": [
    "## Trying to manipulate the internal <br/> userAuthorization variable"
   ]
  },
  {
   "cell_type": "code",
   "execution_count": 6,
   "metadata": {},
   "outputs": [
    {
     "data": {
      "text/plain": [
       "[biz;3]"
      ]
     },
     "execution_count": 6,
     "metadata": {},
     "output_type": "execute_result"
    }
   ],
   "source": [
    "ga().withAuthorization([\"biz;3\"]).V().cap(\"userAuthorization\").next()"
   ]
  },
  {
   "cell_type": "code",
   "execution_count": 7,
   "metadata": {},
   "outputs": [
    {
     "data": {
      "text/plain": [
       "[p0, v1] withSideEffect() to set userAuthorization is ignored"
      ]
     },
     "execution_count": 7,
     "metadata": {},
     "output_type": "execute_result"
    }
   ],
   "source": [
    "authorized = ga().withAuthorization([\"biz;3\"]).\n",
    "    withSideEffect(\"userAuthorization\", [\"biz;3\", \"fin;3\"]).\n",
    "    V().values(\"name\").toList();      // <===\n",
    "\"\" + authorized + \n",
    "    \" withSideEffect() to set userAuthorization is ignored\"\n",
    "// Calling anything, including withSideEffect(), before \n",
    "// withAuthorization() results in an exception"
   ]
  },
  {
   "cell_type": "code",
   "execution_count": 8,
   "metadata": {},
   "outputs": [
    {
     "data": {
      "text/plain": [
       "Cannot add to unmodifiable list: class java.lang.UnsupportedOperationException"
      ]
     },
     "execution_count": 8,
     "metadata": {},
     "output_type": "execute_result"
    }
   ],
   "source": [
    "try {\n",
    "    ga().withAuthorization([\"biz;3\"]).V().\n",
    "        as(\"x\").inject(\"fin;3\").store(\"userAuthorization\").\n",
    "        select(\"x\").toList();      // <===\n",
    "    fail(\"Faking userAuthorizations using \" + \n",
    "         \"the store() step should fail\");\n",
    "} catch (UnsupportedOperationException exception) {\n",
    "    \"Cannot add to unmodifiable list: \" + exception.getClass()\n",
    "}\n",
    "// Using aggregate() step instead of \n",
    "// store() step gives same result"
   ]
  },
  {
   "cell_type": "code",
   "execution_count": 9,
   "metadata": {},
   "outputs": [
    {
     "data": {
      "text/plain": [
       "Method not available for AuthorizedTraversal"
      ]
     },
     "execution_count": 9,
     "metadata": {},
     "output_type": "execute_result"
    }
   ],
   "source": [
    "try {\n",
    "    authorizations = [\"fin;2\", \"fin;4\"];\n",
    "    result = ga().withAuthorization([\"fin;2\"]).\n",
    "        V().has(\"name\", \"p2\").map({t ->\n",
    "            t.sideEffects(\"userAuthorization\", authorizations);\n",
    "            return t.get();\n",
    "            }).out().toList();      // <===\n",
    "    fail(\"Accessing AuthorizedTraversal.map(Function) \" + \n",
    "         \"should fail\");\n",
    "} catch (RuntimeException exception) {\n",
    "    exception.getMessage()\n",
    "}\n",
    "// Apart from the map() step also the barrier(), branch(), \n",
    "// flatMap(), filter(), emit(), sideEffect() and until() \n",
    "// steps provide Traverser instances and need blocking"
   ]
  },
  {
   "cell_type": "markdown",
   "metadata": {},
   "source": [
    "## Trying to access the graph instance"
   ]
  },
  {
   "cell_type": "code",
   "execution_count": 10,
   "metadata": {},
   "outputs": [
    {
     "data": {
      "text/plain": [
       "Method not available for AuthorizedTraversal"
      ]
     },
     "execution_count": 10,
     "metadata": {},
     "output_type": "execute_result"
    }
   ],
   "source": [
    "try {\n",
    "    ga().withAuthorization([\"biz;3\"]).V().getGraph().\n",
    "        get().traversal().V().toList();\n",
    "    fail(\"Accessing DefaultAuthorizedTraversal.getGraph() \" + \n",
    "         \" should fail\");\n",
    "} catch (RuntimeException exception) {\n",
    "    exception.getMessage()\n",
    "}"
   ]
  },
  {
   "cell_type": "code",
   "execution_count": 11,
   "metadata": {},
   "outputs": [
    {
     "data": {
      "text/plain": [
       "Applications using AuthorizedTraversalSource need to set \n",
       "the JVM SecurityManager: [p0, p1, p2, v1, v2]"
      ]
     },
     "execution_count": 11,
     "metadata": {},
     "output_type": "execute_result"
    }
   ],
   "source": [
    "testClass = Class.forName(\"DemoGraph\");\n",
    "testObject = testClass.getConstructor().newInstance();\n",
    "vertices = testObject.createGraph().\n",
    "    traversal().V().values(\"name\").toList();\n",
    "\"Applications using AuthorizedTraversalSource need to set \\n\" + \n",
    "    \"the JVM SecurityManager: \" + vertices"
   ]
  },
  {
   "cell_type": "markdown",
   "metadata": {},
   "source": [
    "## Trying to access the graph <br/> via an anonymous traversal"
   ]
  },
  {
   "cell_type": "code",
   "execution_count": 12,
   "metadata": {},
   "outputs": [
    {
     "data": {
      "text/plain": [
       "Anonymous __.V() inherits userAuthorization from parent: [p0, v1]"
      ]
     },
     "execution_count": 12,
     "metadata": {},
     "output_type": "execute_result"
    }
   ],
   "source": [
    "import nl.vtslab.fosdem2019.traversal.__\n",
    "\n",
    "result = ga().withAuthorization([\"biz;3\"]).V().\n",
    "    map(__.V().fold()).unfold().dedup().values(\"name\").toList()\n",
    "\"Anonymous __.V() inherits userAuthorization from parent: \" + \n",
    "    result"
   ]
  },
  {
   "cell_type": "code",
   "execution_count": 13,
   "metadata": {},
   "outputs": [
    {
     "data": {
      "text/plain": [
       "Anonymous __.inE() inherits userAuthorization from parent: [e01]"
      ]
     },
     "execution_count": 13,
     "metadata": {},
     "output_type": "execute_result"
    }
   ],
   "source": [
    "import nl.vtslab.fosdem2019.traversal.__\n",
    "result = ga().withAuthorization([\"biz;3\"]).V().has(\"name\", \"v1\").\n",
    "    map(__.inE().fold()).unfold().values(\"name\").toList()\n",
    "\"Anonymous __.inE() inherits userAuthorization from parent: \" + \n",
    "    result"
   ]
  },
  {
   "cell_type": "code",
   "execution_count": null,
   "metadata": {},
   "outputs": [],
   "source": []
  },
  {
   "cell_type": "code",
   "execution_count": null,
   "metadata": {},
   "outputs": [],
   "source": []
  }
 ],
 "metadata": {
  "kernelspec": {
   "display_name": "Groovy",
   "language": "groovy",
   "name": "groovy"
  },
  "language_info": {
   "codemirror_mode": "groovy",
   "file_extension": ".groovy",
   "mimetype": "",
   "name": "Groovy",
   "nbconverter_exporter": "",
   "version": "2.4.3"
  },
  "toc": {
   "base_numbering": 1,
   "nav_menu": {},
   "number_sections": false,
   "sideBar": false,
   "skip_h1_title": false,
   "title_cell": "Table of Contents",
   "title_sidebar": "Contents",
   "toc_cell": false,
   "toc_position": {},
   "toc_section_display": false,
   "toc_window_display": false
  }
 },
 "nbformat": 4,
 "nbformat_minor": 2
}
