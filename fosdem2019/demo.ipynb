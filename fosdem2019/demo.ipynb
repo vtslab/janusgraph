{
 "cells": [
  {
   "cell_type": "code",
   "execution_count": null,
   "metadata": {},
   "outputs": [],
   "source": [
    "/* Demo notebook for FOSDEM2019\n",
    "   Tested with beakerx-1.3.0 on python-3.6.7\n",
    "*/\n",
    "%classpath add jar target/fosdem2019-0.0.1-SNAPSHOT.jar\n",
    "%%classpath add mvn\n",
    "    org.apache.tinkerpop tinkergraph-gremlin 3.2.6"
   ]
  },
  {
   "cell_type": "code",
   "execution_count": null,
   "metadata": {},
   "outputs": [],
   "source": [
    "import nl.vtslab.fosdem2019.traversal.AuthorizedTraversalSource\n",
    "import static org.apache.tinkerpop.gremlin.structure.VertexProperty.Cardinality.set;\n",
    "import org.apache.tinkerpop.gremlin.tinkergraph.structure.TinkerGraph\n",
    "\n",
    "src1Authz = \"8;-;-\";\n",
    "src2Authz = \"8;2;-\";\n",
    "src3Authz = \"9;3;11\";\n",
    "src4Authz = \"9;4;11\";\n",
    "src5Authz = \"9;5;11\";\n",
    "\n",
    "def createGraph() {\n",
    "    graph = TinkerGraph.open();\n",
    "    g = graph.traversal();\n",
    "    g.addV(\"Person\").property(\"name\", \"p0\").property(\"authz\", src1Authz).property(set, \"authz\", src2Authz).next();\n",
    "    g.addV(\"Person\").property(\"name\", \"p1\").property(\"authz\", src3Authz).next();\n",
    "    g.addV(\"Person\").property(\"name\", \"p2\").property(\"authz\", src4Authz).next();\n",
    "    g.addV(\"Event\").property(\"name\", \"v1\").property(\"authz\", src1Authz).next();\n",
    "    g.addV(\"Event\").property(\"name\", \"v2\").property(\"authz\", src4Authz).next();\n",
    "    g.V().has(\"name\", \"v1\").as(\"a\").\n",
    "            V().has(\"name\", \"p0\").addE(\"Visits\").to(\"a\").property(\"name\", \"e01\").property(\"authz\", src1Authz).\n",
    "            V().has(\"name\", \"p1\").addE(\"Visits\").to(\"a\").property(\"name\", \"e11\").property(\"authz\", src3Authz).next();\n",
    "    g.V().has(\"name\", \"v2\").as(\"a\").\n",
    "            V().has(\"name\", \"p1\").addE(\"Visits\").to(\"a\").property(\"name\", \"e12\").property(\"authz\", src3Authz).\n",
    "            V().has(\"name\", \"p2\").addE(\"Visits\").to(\"a\").property(\"name\", \"e22\").property(\"authz\", src5Authz).next();\n",
    "    return graph;\n",
    "}\n",
    "\n",
    "graph = createGraph();\n",
    "g = graph.traversal();\n",
    "ga = {x -> graph.traversal(AuthorizedTraversalSource.class)}\n",
    "\"graph and traversal sources available\""
   ]
  },
  {
   "cell_type": "markdown",
   "metadata": {},
   "source": [
    "## Normal operation"
   ]
  },
  {
   "cell_type": "code",
   "execution_count": null,
   "metadata": {},
   "outputs": [],
   "source": [
    "unrestricted = g.V().values(\"name\").toList()\n",
    "authorized = ga().withAuthorization([src1Authz]).V().values(\"name\").toList()\n",
    "\"unrestricted: \" + unrestricted + \"\\nauthorized: \" + authorized"
   ]
  },
  {
   "cell_type": "code",
   "execution_count": null,
   "metadata": {},
   "outputs": [],
   "source": []
  },
  {
   "cell_type": "code",
   "execution_count": null,
   "metadata": {},
   "outputs": [],
   "source": []
  },
  {
   "cell_type": "code",
   "execution_count": null,
   "metadata": {},
   "outputs": [],
   "source": []
  }
 ],
 "metadata": {
  "kernelspec": {
   "display_name": "Groovy",
   "language": "groovy",
   "name": "groovy"
  },
  "language_info": {
   "codemirror_mode": "groovy",
   "file_extension": ".groovy",
   "mimetype": "",
   "name": "Groovy",
   "nbconverter_exporter": "",
   "version": "2.4.3"
  },
  "toc": {
   "base_numbering": 1,
   "nav_menu": {},
   "number_sections": false,
   "sideBar": false,
   "skip_h1_title": false,
   "title_cell": "Table of Contents",
   "title_sidebar": "Contents",
   "toc_cell": false,
   "toc_position": {},
   "toc_section_display": false,
   "toc_window_display": false
  }
 },
 "nbformat": 4,
 "nbformat_minor": 2
}
