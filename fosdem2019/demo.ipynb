{
 "cells": [
  {
   "cell_type": "markdown",
   "metadata": {},
   "source": [
    "## Demo notebook for FOSDEM2019 graph devroom"
   ]
  },
  {
   "cell_type": "code",
   "execution_count": null,
   "metadata": {},
   "outputs": [],
   "source": [
    "/*\n",
    "   Tested with beakerx-1.3.0 on python-3.6.7\n",
    "*/\n",
    "%classpath add jar target/fosdem2019-0.0.1-SNAPSHOT.jar\n",
    "%classpath add jar gremlinjars/lib\n",
    "\n",
    "import nl.vtslab.fosdem2019.traversal.AuthorizedTraversalSource\n",
    "import static org.apache.tinkerpop.gremlin.structure.VertexProperty.Cardinality.set;\n",
    "import org.apache.tinkerpop.gremlin.tinkergraph.structure.TinkerGraph\n",
    "\n",
    "src1Authz = \"biz;3\";\n",
    "src2Authz = \"fb;2\";\n",
    "src3Authz = \"fin;3\";\n",
    "src4Authz = \"fin;2\";\n",
    "src5Authz = \"fin;4\";\n",
    "\n",
    "class DemoGraph {\n",
    "    static def createGraph(src1Authz, src2Authz, src3Authz, src4Authz, src5Authz) {\n",
    "        def graph = TinkerGraph.open();\n",
    "        def g = graph.traversal();\n",
    "        g.addV(\"Person\").property(\"name\", \"p0\").property(\"authz\", src1Authz).property(set, \"authz\", src2Authz).next();\n",
    "        g.addV(\"Person\").property(\"name\", \"p1\").property(\"authz\", src3Authz).next();\n",
    "        g.addV(\"Person\").property(\"name\", \"p2\").property(\"authz\", src4Authz).next();\n",
    "        g.addV(\"Event\").property(\"name\", \"v1\").property(\"authz\", src1Authz).next();\n",
    "        g.addV(\"Event\").property(\"name\", \"v2\").property(\"authz\", src4Authz).next();\n",
    "        g.V().has(\"name\", \"v1\").as(\"a\").\n",
    "                V().has(\"name\", \"p0\").addE(\"Visits\").to(\"a\").property(\"name\", \"e01\").property(\"authz\", src1Authz).\n",
    "                V().has(\"name\", \"p1\").addE(\"Visits\").to(\"a\").property(\"name\", \"e11\").property(\"authz\", src3Authz).next();\n",
    "        g.V().has(\"name\", \"v2\").as(\"a\").\n",
    "                V().has(\"name\", \"p1\").addE(\"Visits\").to(\"a\").property(\"name\", \"e12\").property(\"authz\", src3Authz).\n",
    "                V().has(\"name\", \"p2\").addE(\"Visits\").to(\"a\").property(\"name\", \"e22\").property(\"authz\", src5Authz).next();\n",
    "        return graph;\n",
    "    }\n",
    "}\n",
    "\n",
    "graph = DemoGraph.createGraph(src1Authz, src2Authz, src3Authz, src4Authz, src5Authz);\n",
    "g = graph.traversal();\n",
    "// Every withAuthorization() call needs a new AuthorizedTraversalSource\n",
    "ga = {x -> graph.traversal(AuthorizedTraversalSource.class)}\n",
    "\"graph and traversal sources available\""
   ]
  },
  {
   "cell_type": "markdown",
   "metadata": {},
   "source": [
    "<img src=\"demograph.png\" width=\"400\" align=\"left\"/>"
   ]
  },
  {
   "cell_type": "markdown",
   "metadata": {},
   "source": [
    "## Normal operation"
   ]
  },
  {
   "cell_type": "code",
   "execution_count": null,
   "metadata": {},
   "outputs": [],
   "source": [
    "unrestricted = g.V().values(\"name\").toList()\n",
    "authorized = ga().withAuthorization([\"biz;3\"]).V().values(\"name\").toList()      // <===\n",
    "\"unrestricted: \" + unrestricted + \"\\nauthorized: \" + authorized"
   ]
  },
  {
   "cell_type": "code",
   "execution_count": null,
   "metadata": {},
   "outputs": [],
   "source": [
    "unrestricted = g.V().has(\"name\", \"p1\").out().values(\"name\").toList()\n",
    "authorized = ga().withAuthorization([\"fin;2\",\"fin;3\"]).V().has(\"name\", \"p1\").out().values(\"name\").toList()      // <===\n",
    "\"unrestricted: \" + unrestricted + \"\\nauthorized: \" + authorized"
   ]
  },
  {
   "cell_type": "markdown",
   "metadata": {},
   "source": [
    "## Unauthorized use"
   ]
  },
  {
   "cell_type": "code",
   "execution_count": null,
   "metadata": {},
   "outputs": [],
   "source": [
    "try {\n",
    "    ga().V().toList();      // <===\n",
    "    fail(\"Unauthorized query should fail\");\n",
    "} catch (RuntimeException exception) {\n",
    "    exception.getMessage();\n",
    "}"
   ]
  },
  {
   "cell_type": "code",
   "execution_count": null,
   "metadata": {},
   "outputs": [],
   "source": [
    "try {\n",
    "    ga().withAuthorization([\"biz;3\"]).withAuthorization([\"biz;3\", \"fin;3\"]).V().toList();      // <===\n",
    "    fail(\"Query with second withAuthorization() call should fail\");\n",
    "} catch (Exception exception) {\n",
    "    exception.getMessage();\n",
    "}"
   ]
  },
  {
   "cell_type": "markdown",
   "metadata": {},
   "source": [
    "## Trying to manipulate the internal userAuthorization variable"
   ]
  },
  {
   "cell_type": "code",
   "execution_count": null,
   "metadata": {},
   "outputs": [],
   "source": [
    "authorized = ga().withAuthorization([\"biz;3\"]).\n",
    "    withSideEffect(\"userAuthorization\", [\"biz;3\", \"fin;3\"]).V().values(\"name\").toList();      // <===\n",
    "\"\" + authorized + \" withSideEffect() to set userAuthorization is ignored\"\n",
    "// Calling anything, including withSideEffect(), before withAuthorization() results in an exception"
   ]
  },
  {
   "cell_type": "code",
   "execution_count": null,
   "metadata": {},
   "outputs": [],
   "source": [
    "try {\n",
    "    ga().withAuthorization([\"biz;3\"]).V().\n",
    "        as(\"x\").inject(\"fin;3\").store(\"userAuthorization\").select(\"x\").toList();      // <===\n",
    "    fail(\"Faking userAuthorizations using the store() step should fail\");\n",
    "} catch (Exception exception) {\n",
    "    \"Cannot add to unmodifiable list: \" + exception.getClass()\n",
    "}\n",
    "// Using aggregate() step instead of store() step gives same result"
   ]
  },
  {
   "cell_type": "code",
   "execution_count": null,
   "metadata": {},
   "outputs": [],
   "source": [
    "try {\n",
    "    authorizations = [\"fin;2\", \"fin;4\"];\n",
    "    result = ga().withAuthorization([\"fin;2\"]).V().has(\"name\", \"p2\").map({t ->\n",
    "        t.sideEffects(\"userAuthorization\", authorizations);\n",
    "        return t.get();\n",
    "    }).out().toList();      // <===\n",
    "    fail(\"Accessing AuthorizedTraversal.map(Function) should fail\");\n",
    "} catch (Exception exception) {\n",
    "    exception.getMessage()\n",
    "}\n",
    "// Apart from the map() step also the barrier(), branch(), flatMap(), filter(), emit(), sideEffect() and \n",
    "// until() steps provide Traverser instances and need blocking"
   ]
  },
  {
   "cell_type": "markdown",
   "metadata": {},
   "source": [
    "## Trying to access the graph instance"
   ]
  },
  {
   "cell_type": "code",
   "execution_count": null,
   "metadata": {},
   "outputs": [],
   "source": [
    "try {\n",
    "    ga().withAuthorization([\"biz;3\"]).V().getGraph().get().traversal().V().toList();\n",
    "    fail(\"Accessing DefaultAuthorizedTraversal.getGraph() should fail\");\n",
    "} catch (Exception exception) {\n",
    "    exception.getMessage()\n",
    "}"
   ]
  },
  {
   "cell_type": "code",
   "execution_count": null,
   "metadata": {},
   "outputs": [],
   "source": [
    "testClass = Class.forName(\"DemoGraph\");\n",
    "testObject = testClass.getConstructor().newInstance();\n",
    "vertices = testObject.createGraph(\"biz;3\", \"fb;2\", \"fin;3\", \"fin;2\", \"fin;4\").\n",
    "    traversal().V().values(\"name\").toList();\n",
    "\"Applications using AuthorizedTraversalSource need to set the JVM SecurityManager: \" + vertices"
   ]
  },
  {
   "cell_type": "markdown",
   "metadata": {},
   "source": [
    "## Trying to access the graph via an anonymous traversal"
   ]
  },
  {
   "cell_type": "code",
   "execution_count": null,
   "metadata": {},
   "outputs": [],
   "source": [
    "import nl.vtslab.fosdem2019.traversal.__\n",
    "\n",
    "result = ga().withAuthorization([\"biz;3\"]).V().\n",
    "    map(__.V().fold()).unfold().dedup().values(\"name\").toList()\n",
    "\"Anonymous __.V() inherits userAuthorization from parent: \" + result"
   ]
  },
  {
   "cell_type": "code",
   "execution_count": null,
   "metadata": {},
   "outputs": [],
   "source": [
    "import nl.vtslab.fosdem2019.traversal.__\n",
    "result = ga().withAuthorization([\"biz;3\"]).V().has(\"name\", \"v1\").\n",
    "    map(__.inE().fold()).unfold().dedup().values(\"name\").toList()\n",
    "\"Anonymous __.inE() inherits userAuthorization from parent: \" + result"
   ]
  },
  {
   "cell_type": "code",
   "execution_count": null,
   "metadata": {},
   "outputs": [],
   "source": []
  },
  {
   "cell_type": "code",
   "execution_count": null,
   "metadata": {},
   "outputs": [],
   "source": []
  }
 ],
 "metadata": {
  "kernelspec": {
   "display_name": "Groovy",
   "language": "groovy",
   "name": "groovy"
  },
  "language_info": {
   "codemirror_mode": "groovy",
   "file_extension": ".groovy",
   "mimetype": "",
   "name": "Groovy",
   "nbconverter_exporter": "",
   "version": "2.4.3"
  },
  "toc": {
   "base_numbering": 1,
   "nav_menu": {},
   "number_sections": false,
   "sideBar": false,
   "skip_h1_title": false,
   "title_cell": "Table of Contents",
   "title_sidebar": "Contents",
   "toc_cell": false,
   "toc_position": {},
   "toc_section_display": false,
   "toc_window_display": false
  }
 },
 "nbformat": 4,
 "nbformat_minor": 2
}
